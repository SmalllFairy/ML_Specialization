{
 "cells": [
  {
   "cell_type": "code",
   "execution_count": 1,
   "metadata": {},
   "outputs": [
    {
     "name": "stderr",
     "output_type": "stream",
     "text": [
      "/Users/tsyganov/anaconda/lib/python2.7/site-packages/sklearn/cross_validation.py:41: DeprecationWarning: This module was deprecated in version 0.18 in favor of the model_selection module into which all the refactored classes and functions are moved. Also note that the interface of the new CV iterators are different from that of this module. This module will be removed in 0.20.\n",
      "  \"This module will be removed in 0.20.\", DeprecationWarning)\n"
     ]
    }
   ],
   "source": [
    "from sklearn import cross_validation, datasets, naive_bayes\n",
    "\n",
    "import numpy as np\n",
    "import pandas as pd"
   ]
  },
  {
   "cell_type": "code",
   "execution_count": 2,
   "metadata": {},
   "outputs": [
    {
     "name": "stdout",
     "output_type": "stream",
     "text": [
      "Populating the interactive namespace from numpy and matplotlib\n"
     ]
    }
   ],
   "source": [
    "%pylab inline"
   ]
  },
  {
   "cell_type": "code",
   "execution_count": 3,
   "metadata": {
    "collapsed": true
   },
   "outputs": [],
   "source": [
    "digits = datasets.load_digits()\n",
    "X_d = digits.data\n",
    "y_d = digits.target\n",
    "\n",
    "breast_cancer = datasets.load_breast_cancer()\n",
    "X_b = breast_cancer.data\n",
    "y_b = breast_cancer.target"
   ]
  },
  {
   "cell_type": "code",
   "execution_count": 5,
   "metadata": {},
   "outputs": [],
   "source": [
    "random.seed(0)\n",
    "np.random.seed(0)\n",
    "bern = naive_bayes.BernoulliNB()\n",
    "multi = naive_bayes.MultinomialNB()\n",
    "gaus = naive_bayes.GaussianNB()"
   ]
  },
  {
   "cell_type": "code",
   "execution_count": 6,
   "metadata": {},
   "outputs": [
    {
     "name": "stdout",
     "output_type": "stream",
     "text": [
      "Digits score Bernulli = 0.83\n",
      "Digits score Multinomial = 0.87\n",
      "Digits score Gaussian = 0.82\n"
     ]
    }
   ],
   "source": [
    "score_d_bern = cross_validation.cross_val_score(bern, X_d, y_d).mean()\n",
    "print(\"Digits score Bernulli = %.2f\" % score_d_bern)\n",
    "score_d_multi = cross_validation.cross_val_score(multi, X_d, y_d).mean()\n",
    "print(\"Digits score Multinomial = %.2f\" % score_d_multi)\n",
    "score_d_gaus = cross_validation.cross_val_score(gaus, X_d, y_d).mean()\n",
    "print(\"Digits score Gaussian = %.2f\" % score_d_gaus)"
   ]
  },
  {
   "cell_type": "code",
   "execution_count": 7,
   "metadata": {},
   "outputs": [
    {
     "name": "stdout",
     "output_type": "stream",
     "text": [
      "Breast Cancer score Bernulli = 0.63\n",
      "Breast Cancer score Multinomial = 0.89\n",
      "Breast Cancer score Gaussian = 0.94\n"
     ]
    }
   ],
   "source": [
    "score_b_bern = cross_validation.cross_val_score(bern, X_b, y_b).mean()\n",
    "print(\"Breast Cancer score Bernulli = %.2f\" % score_b_bern)\n",
    "score_b_multi = cross_validation.cross_val_score(multi, X_b, y_b).mean()\n",
    "print(\"Breast Cancer score Multinomial = %.2f\" % score_b_multi)\n",
    "score_b_gaus = cross_validation.cross_val_score(gaus, X_b, y_b).mean()\n",
    "print(\"Breast Cancer score Gaussian = %.2f\" % score_b_gaus)"
   ]
  },
  {
   "cell_type": "code",
   "execution_count": 9,
   "metadata": {},
   "outputs": [
    {
     "name": "stdout",
     "output_type": "stream",
     "text": [
      "b max:  0.936749280609\n",
      "d max:  0.870877148974\n"
     ]
    }
   ],
   "source": [
    "b_max = np.max([score_b_bern, score_b_multi, score_b_gaus])\n",
    "print 'b max: ', b_max\n",
    "d_max = np.max([score_d_bern, score_d_multi, score_d_gaus])\n",
    "print 'd max: ', d_max\n",
    "\n",
    "with open('nb_ans1.txt', 'w') as f_out:\n",
    "        f_out.write(str(b_max))\n",
    "        \n",
    "with open('nb_ans2.txt', 'w') as f_out:\n",
    "        f_out.write(str(d_max))"
   ]
  },
  {
   "cell_type": "code",
   "execution_count": null,
   "metadata": {
    "collapsed": true
   },
   "outputs": [],
   "source": []
  }
 ],
 "metadata": {
  "kernelspec": {
   "display_name": "Python 2",
   "language": "python",
   "name": "python2"
  },
  "language_info": {
   "codemirror_mode": {
    "name": "ipython",
    "version": 2
   },
   "file_extension": ".py",
   "mimetype": "text/x-python",
   "name": "python",
   "nbconvert_exporter": "python",
   "pygments_lexer": "ipython2",
   "version": "2.7.13"
  }
 },
 "nbformat": 4,
 "nbformat_minor": 2
}
