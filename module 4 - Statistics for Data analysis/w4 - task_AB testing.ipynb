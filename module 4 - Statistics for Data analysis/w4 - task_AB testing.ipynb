{
 "cells": [
  {
   "cell_type": "code",
   "execution_count": 3,
   "metadata": {
    "collapsed": true
   },
   "outputs": [],
   "source": [
    "import pandas as pd\n",
    "import numpy as np\n",
    "import scipy\n",
    "\n",
    "from scipy import stats\n",
    "import matplotlib.pyplot as plt\n",
    "\n",
    "%matplotlib inline"
   ]
  },
  {
   "cell_type": "code",
   "execution_count": 4,
   "metadata": {},
   "outputs": [
    {
     "data": {
      "text/html": [
       "<div>\n",
       "<style>\n",
       "    .dataframe thead tr:only-child th {\n",
       "        text-align: right;\n",
       "    }\n",
       "\n",
       "    .dataframe thead th {\n",
       "        text-align: left;\n",
       "    }\n",
       "\n",
       "    .dataframe tbody tr th {\n",
       "        vertical-align: top;\n",
       "    }\n",
       "</style>\n",
       "<table border=\"1\" class=\"dataframe\">\n",
       "  <thead>\n",
       "    <tr style=\"text-align: right;\">\n",
       "      <th></th>\n",
       "      <th>userID</th>\n",
       "      <th>browser</th>\n",
       "      <th>slot</th>\n",
       "      <th>n_clicks</th>\n",
       "      <th>n_queries</th>\n",
       "      <th>n_nonclk_queries</th>\n",
       "    </tr>\n",
       "  </thead>\n",
       "  <tbody>\n",
       "    <tr>\n",
       "      <th>0</th>\n",
       "      <td>1</td>\n",
       "      <td>Browser #2</td>\n",
       "      <td>exp</td>\n",
       "      <td>23</td>\n",
       "      <td>32</td>\n",
       "      <td>19</td>\n",
       "    </tr>\n",
       "    <tr>\n",
       "      <th>1</th>\n",
       "      <td>3</td>\n",
       "      <td>Browser #4</td>\n",
       "      <td>exp</td>\n",
       "      <td>3</td>\n",
       "      <td>4</td>\n",
       "      <td>2</td>\n",
       "    </tr>\n",
       "    <tr>\n",
       "      <th>2</th>\n",
       "      <td>5</td>\n",
       "      <td>Browser #4</td>\n",
       "      <td>exp</td>\n",
       "      <td>29</td>\n",
       "      <td>35</td>\n",
       "      <td>16</td>\n",
       "    </tr>\n",
       "    <tr>\n",
       "      <th>3</th>\n",
       "      <td>6</td>\n",
       "      <td>Browser #4</td>\n",
       "      <td>control</td>\n",
       "      <td>12</td>\n",
       "      <td>6</td>\n",
       "      <td>0</td>\n",
       "    </tr>\n",
       "    <tr>\n",
       "      <th>4</th>\n",
       "      <td>7</td>\n",
       "      <td>Browser #4</td>\n",
       "      <td>exp</td>\n",
       "      <td>54</td>\n",
       "      <td>68</td>\n",
       "      <td>30</td>\n",
       "    </tr>\n",
       "  </tbody>\n",
       "</table>\n",
       "</div>"
      ],
      "text/plain": [
       "   userID     browser     slot  n_clicks  n_queries  n_nonclk_queries\n",
       "0       1  Browser #2      exp        23         32                19\n",
       "1       3  Browser #4      exp         3          4                 2\n",
       "2       5  Browser #4      exp        29         35                16\n",
       "3       6  Browser #4  control        12          6                 0\n",
       "4       7  Browser #4      exp        54         68                30"
      ]
     },
     "execution_count": 4,
     "metadata": {},
     "output_type": "execute_result"
    }
   ],
   "source": [
    "data = pd.read_csv('ab_browser_test.csv')\n",
    "data.head()\n",
    "\n",
    "# Описание данных:\n",
    "# userID: уникальный идентификатор пользователя\n",
    "# browser: браузер, который использовал userID\n",
    "# slot: в каком статусе пользователь участвовал в исследовании(exp = видел измененную страницу, control = видел неизменную страницу)\n",
    "# n_clicks: количество кликов, которые пользоваль совершил за n_queries\n",
    "# n_queries: количество запросов, который совершил userID, пользуясь браузером browser\n",
    "# n_nonclk_queries: количество запросов пользователя, в которых им не было совершено ни одного клика"
   ]
  },
  {
   "cell_type": "code",
   "execution_count": 5,
   "metadata": {},
   "outputs": [
    {
     "name": "stdout",
     "output_type": "stream",
     "text": [
      "1.614\n"
     ]
    }
   ],
   "source": [
    "# 1. Основная метрика, на которой мы сосредоточимся в этой работе, — это количество пользовательских кликов на web-странице \n",
    "# в зависимости от тестируемого изменения этой страницы.\n",
    "# Посчитайте, насколько в группе exp больше пользовательских кликов по сравнению с группой control в процентах от числа кликов \n",
    "# в контрольной группе. Полученный процент округлите до третьего знака после точки.\n",
    "\n",
    "exp = data[data['slot']=='exp']\n",
    "control = data[data['slot']=='control']\n",
    "print (round((sum(exp.n_clicks)*1.0/sum(control.n_clicks)-1)*100,3))"
   ]
  },
  {
   "cell_type": "code",
   "execution_count": 6,
   "metadata": {},
   "outputs": [
    {
     "data": {
      "text/html": [
       "<div>\n",
       "<style>\n",
       "    .dataframe thead tr:only-child th {\n",
       "        text-align: right;\n",
       "    }\n",
       "\n",
       "    .dataframe thead th {\n",
       "        text-align: left;\n",
       "    }\n",
       "\n",
       "    .dataframe tbody tr th {\n",
       "        vertical-align: top;\n",
       "    }\n",
       "</style>\n",
       "<table border=\"1\" class=\"dataframe\">\n",
       "  <thead>\n",
       "    <tr style=\"text-align: right;\">\n",
       "      <th></th>\n",
       "      <th>userID</th>\n",
       "      <th>n_clicks</th>\n",
       "      <th>n_queries</th>\n",
       "      <th>n_nonclk_queries</th>\n",
       "    </tr>\n",
       "  </thead>\n",
       "  <tbody>\n",
       "    <tr>\n",
       "      <th>count</th>\n",
       "      <td>566134.000000</td>\n",
       "      <td>566134.000000</td>\n",
       "      <td>566134.000000</td>\n",
       "      <td>566134.000000</td>\n",
       "    </tr>\n",
       "    <tr>\n",
       "      <th>mean</th>\n",
       "      <td>301377.214027</td>\n",
       "      <td>11.431658</td>\n",
       "      <td>10.720524</td>\n",
       "      <td>4.703987</td>\n",
       "    </tr>\n",
       "    <tr>\n",
       "      <th>std</th>\n",
       "      <td>175526.333101</td>\n",
       "      <td>20.251494</td>\n",
       "      <td>16.262827</td>\n",
       "      <td>8.109958</td>\n",
       "    </tr>\n",
       "    <tr>\n",
       "      <th>min</th>\n",
       "      <td>1.000000</td>\n",
       "      <td>0.000000</td>\n",
       "      <td>1.000000</td>\n",
       "      <td>0.000000</td>\n",
       "    </tr>\n",
       "    <tr>\n",
       "      <th>25%</th>\n",
       "      <td>148627.250000</td>\n",
       "      <td>1.000000</td>\n",
       "      <td>2.000000</td>\n",
       "      <td>1.000000</td>\n",
       "    </tr>\n",
       "    <tr>\n",
       "      <th>50%</th>\n",
       "      <td>299362.500000</td>\n",
       "      <td>4.000000</td>\n",
       "      <td>5.000000</td>\n",
       "      <td>2.000000</td>\n",
       "    </tr>\n",
       "    <tr>\n",
       "      <th>75%</th>\n",
       "      <td>455698.750000</td>\n",
       "      <td>13.000000</td>\n",
       "      <td>13.000000</td>\n",
       "      <td>6.000000</td>\n",
       "    </tr>\n",
       "    <tr>\n",
       "      <th>max</th>\n",
       "      <td>603137.000000</td>\n",
       "      <td>863.000000</td>\n",
       "      <td>665.000000</td>\n",
       "      <td>581.000000</td>\n",
       "    </tr>\n",
       "  </tbody>\n",
       "</table>\n",
       "</div>"
      ],
      "text/plain": [
       "              userID       n_clicks      n_queries  n_nonclk_queries\n",
       "count  566134.000000  566134.000000  566134.000000     566134.000000\n",
       "mean   301377.214027      11.431658      10.720524          4.703987\n",
       "std    175526.333101      20.251494      16.262827          8.109958\n",
       "min         1.000000       0.000000       1.000000          0.000000\n",
       "25%    148627.250000       1.000000       2.000000          1.000000\n",
       "50%    299362.500000       4.000000       5.000000          2.000000\n",
       "75%    455698.750000      13.000000      13.000000          6.000000\n",
       "max    603137.000000     863.000000     665.000000        581.000000"
      ]
     },
     "execution_count": 6,
     "metadata": {},
     "output_type": "execute_result"
    }
   ],
   "source": [
    "# 2. Давайте попробуем посмотреть более внимательно на разницу между двумя группами (control и exp) относительно количества \n",
    "# пользовательских кликов. Для этого постройте с помощью бутстрепа 95% доверительный интервал \n",
    "# для средних значений и медиан количества кликов в каждой из двух групп. \n",
    "\n",
    "data.describe()"
   ]
  },
  {
   "cell_type": "code",
   "execution_count": 7,
   "metadata": {},
   "outputs": [
    {
     "name": "stdout",
     "output_type": "stream",
     "text": [
      "EXP: mean = 11.5840; median = 5.0000\n",
      "CONTROL: mean = 11.2809; median = 4.0000\n"
     ]
    }
   ],
   "source": [
    "exp_mean = np.mean(exp.n_clicks)\n",
    "exp_med = np.median(exp.n_clicks)\n",
    "print \"EXP: mean = %.4f; median = %.4f\" % (exp_mean, exp_med)\n",
    "\n",
    "c_mean = np.mean(control.n_clicks)\n",
    "c_med = np.median(control.n_clicks)\n",
    "print \"CONTROL: mean = %.4f; median = %.4f\" % (c_mean, c_med)"
   ]
  },
  {
   "cell_type": "code",
   "execution_count": 42,
   "metadata": {
    "collapsed": true
   },
   "outputs": [],
   "source": [
    "def get_bootstrap_samples(data, n_samples):\n",
    "    # генерируются случайные подвыборки размера n_samples X len(data): 500 Х 15000 со значениями от 0 до len(data)\n",
    "    # формируем массив с индексами значений, которые необходимо отобрать\n",
    "    indices = np.random.randint(0, len(data), (n_samples, len(data))) \n",
    "    # передаем массив индексов в массив исходных значений для формирования псевдовыборок\n",
    "    samples = data[indices]\n",
    "    return samples"
   ]
  },
  {
   "cell_type": "code",
   "execution_count": 43,
   "metadata": {
    "collapsed": true
   },
   "outputs": [],
   "source": [
    "def stat_intervals(stat, alpha=0.05):\n",
    "    boundaries = np.percentile(stat, [100 * alpha / 2., 100 * (1 - alpha / 2.)])\n",
    "    return boundaries"
   ]
  },
  {
   "cell_type": "code",
   "execution_count": 11,
   "metadata": {},
   "outputs": [
    {
     "name": "stdout",
     "output_type": "stream",
     "text": [
      "95% confidence interval for Exp group: [ 5.  5.]\n",
      "95% confidence interval for Control group: [ 4.  4.]\n"
     ]
    }
   ],
   "source": [
    "np.random.seed(123)\n",
    "\n",
    "exp_n_clicks = np.array(exp.n_clicks.values)\n",
    "c_n_clicks = np.array(control.n_clicks.values)\n",
    "\n",
    "exp_median_scores = np.median(get_bootstrap_samples(exp_n_clicks, 500), axis=1)\n",
    "c_median_scores = np.median(get_bootstrap_samples(c_n_clicks, 500), axis=1)\n",
    "\n",
    "print \"95% confidence interval for Exp group:\",  stat_intervals(exp_median_scores)\n",
    "print \"95% confidence interval for Control group:\",  stat_intervals(c_median_scores)"
   ]
  },
  {
   "cell_type": "code",
   "execution_count": 15,
   "metadata": {},
   "outputs": [
    {
     "data": {
      "text/plain": [
       "array([23,  3, 29, 54,  6,  2,  7,  4,  2, 21, 10, 25, 72,  4,  7, 22,  3,\n",
       "        1, 39, 32])"
      ]
     },
     "execution_count": 15,
     "metadata": {},
     "output_type": "execute_result"
    }
   ],
   "source": [
    "exp_n_clicks[:20]"
   ]
  },
  {
   "cell_type": "code",
   "execution_count": 24,
   "metadata": {},
   "outputs": [
    {
     "name": "stdout",
     "output_type": "stream",
     "text": [
      "('95% confidence interval for difference median:', array([ 1.,  1.]))\n"
     ]
    }
   ],
   "source": [
    "median_scores = map(lambda x: x[0] - x[1], zip(exp_median_scores, c_median_scores))\n",
    "print (\"95% confidence interval for difference median:\",  stat_intervals(median_scores))"
   ]
  },
  {
   "cell_type": "code",
   "execution_count": 25,
   "metadata": {},
   "outputs": [
    {
     "name": "stdout",
     "output_type": "stream",
     "text": [
      "95% confidence interval for Exp group: [ 11.51651342  11.66053004]\n",
      "95% confidence interval for Control group: [ 11.20560816  11.35528713]\n"
     ]
    }
   ],
   "source": [
    "np.random.seed(123)\n",
    "\n",
    "exp_mean_scores = np.mean(get_bootstrap_samples(exp_n_clicks, 500), axis=1)\n",
    "c_mean_scores = np.mean(get_bootstrap_samples(c_n_clicks, 500), axis=1)\n",
    "\n",
    "print \"95% confidence interval for Exp group:\",  stat_intervals(exp_mean_scores)\n",
    "print \"95% confidence interval for Control group:\",  stat_intervals(c_mean_scores)"
   ]
  },
  {
   "cell_type": "code",
   "execution_count": 26,
   "metadata": {},
   "outputs": [
    {
     "name": "stdout",
     "output_type": "stream",
     "text": [
      "('95% confidence interval for difference mean:', array([ 0.20274804,  0.40479205]))\n"
     ]
    }
   ],
   "source": [
    "mean_scores = map(lambda x: x[0] - x[1], zip(exp_mean_scores, c_mean_scores))\n",
    "print (\"95% confidence interval for difference mean:\",  stat_intervals(mean_scores))"
   ]
  },
  {
   "cell_type": "code",
   "execution_count": 27,
   "metadata": {
    "collapsed": true
   },
   "outputs": [],
   "source": [
    "# 4. t-критерий Стьюдента имеет множество достоинств, и потому его достаточно часто применяют в AB экспериментах. \n",
    "# Иногда его применение может быть необоснованно из-за сильной скошенности распределения данных.\n",
    "# Давайте постараемся понять, когда t-критерий можно применять и как это проверить на реальных данных.\n",
    "# Поскольку мы не знаем истинного распределения генеральной совокупности, мы можем применить бутстреп, \n",
    "# чтобы понять, как распределены среднее значение и выборочная дисперсия. \n",
    "# Для этого:\n",
    "#  - Получите из данных n_boot_samples псевдовыборок.\n",
    "np.random.seed(0)\n",
    "n_boot_samples = 500\n",
    "c_samples = get_bootstrap_samples(c_n_clicks, n_boot_samples)"
   ]
  },
  {
   "cell_type": "code",
   "execution_count": 28,
   "metadata": {
    "collapsed": true
   },
   "outputs": [],
   "source": [
    "#  - По каждой из этих выборок посчитайте среднее и сумму квадратов отклонения от выборочного среднего (control_boot_chi_squared)\n",
    "control_boot_mean = np.mean(c_samples, axis=1)\n",
    "control_boot_chi_squared = np.var(c_samples,axis=1) "
   ]
  },
  {
   "cell_type": "code",
   "execution_count": 1,
   "metadata": {},
   "outputs": [],
   "source": [
    "#  - Для получившегося вектора сумм квадратов отклонения от выборочного среднего постройте qq-plot с помощью \n",
    "# scipy.stats.probplot для хи-квадрат распределения с помощью команды:\n",
    "\n",
    "scipy.stats.probplot(control_boot_chi_squared, dist=\"chi2\", sparams=(500-1), plot=plt)"
   ]
  },
  {
   "cell_type": "code",
   "execution_count": 2,
   "metadata": {},
   "outputs": [],
   "source": [
    "# Для получившегося вектора средних значений из n_boot_samples постройте q-q plot с помощью \n",
    "# scipy.stats.probplot для нормального распределения\n",
    "\n",
    "scipy.stats.probplot(control_boot_mean, plot=plt)"
   ]
  },
  {
   "cell_type": "code",
   "execution_count": null,
   "metadata": {
    "collapsed": true
   },
   "outputs": [],
   "source": [
    "# 5. Одним из возможных аналогов t-критерия, которым можно воспрользоваться, является тест Манна-Уитни. \n",
    "# На достаточно обширном классе распределений он является асимптотически более эффективным, чем t-критерий, \n",
    "# и при этом не требует параметрических предположений о характере распределения."
   ]
  },
  {
   "cell_type": "code",
   "execution_count": 32,
   "metadata": {
    "collapsed": true
   },
   "outputs": [],
   "source": [
    "# Разделите выборку на две части, соответствующие control и exp группам. \n",
    "# Преобразуйте данные к виду, чтобы каждому пользователю соответствовало суммарное значение его кликов. \n",
    "n_click_control_by_user = data[data['slot']=='control'].groupby(by='userID')['n_clicks'].agg(np.sum)\n",
    "n_click_exp_by_user = data[data['slot']=='exp'].groupby(by='userID')['n_clicks'].agg(np.sum)"
   ]
  },
  {
   "cell_type": "code",
   "execution_count": 33,
   "metadata": {},
   "outputs": [
    {
     "data": {
      "text/plain": [
       "count    284392.000000\n",
       "mean         11.287332\n",
       "std          20.289501\n",
       "min           0.000000\n",
       "25%           1.000000\n",
       "50%           4.000000\n",
       "75%          13.000000\n",
       "max         863.000000\n",
       "Name: n_clicks, dtype: float64"
      ]
     },
     "execution_count": 33,
     "metadata": {},
     "output_type": "execute_result"
    }
   ],
   "source": [
    "n_click_control_by_user.describe()"
   ]
  },
  {
   "cell_type": "code",
   "execution_count": 34,
   "metadata": {},
   "outputs": [
    {
     "data": {
      "text/plain": [
       "count    281450.000000\n",
       "mean         11.589352\n",
       "std          20.225421\n",
       "min           0.000000\n",
       "25%           1.000000\n",
       "50%           5.000000\n",
       "75%          13.000000\n",
       "max         776.000000\n",
       "Name: n_clicks, dtype: float64"
      ]
     },
     "execution_count": 34,
     "metadata": {},
     "output_type": "execute_result"
    }
   ],
   "source": [
    "n_click_exp_by_user.describe()"
   ]
  },
  {
   "cell_type": "code",
   "execution_count": 35,
   "metadata": {},
   "outputs": [
    {
     "data": {
      "text/plain": [
       "MannwhitneyuResult(statistic=38901259929.0, pvalue=4.3471471887604393e-75)"
      ]
     },
     "execution_count": 35,
     "metadata": {},
     "output_type": "execute_result"
    }
   ],
   "source": [
    "# С помощью критерия Манна-Уитни проверьте гипотезу о равенстве средних этих двух выборок. \n",
    "# Что можно сказать о получившемся значении достигаемого уровня значимости? Нулевая гипотеза отвергается, и это свидетельствует \n",
    "# о статической значимости отличий средних двух выборок, а значит и самих выборок.\n",
    "\n",
    "stats.mannwhitneyu(n_click_exp_by_user, n_click_control_by_user)"
   ]
  },
  {
   "cell_type": "code",
   "execution_count": 36,
   "metadata": {},
   "outputs": [
    {
     "name": "stdout",
     "output_type": "stream",
     "text": [
      "['Browser #2' 'Browser #4' 'Browser #14' 'Browser #17' 'Browser #20'\n",
      " 'Browser #22']\n"
     ]
    }
   ],
   "source": [
    "# 6. Проверьте, для какого из браузеров наиболее сильно выражено отличие между количеством кликов в контрольной и эксперимен.группах.\n",
    "# Для этого примените для каждого из срезов (по каждому из уникальных значений столбца browser) критерий Манна-Уитни между \n",
    "# control и exp группами и сделайте поправку Холма-Бонферрони на множественную проверку с α=0.05.\n",
    "# Какое заключение можно сделать исходя из полученных результатов ?\n",
    "\n",
    "browsers = data.browser.unique()\n",
    "print browsers"
   ]
  },
  {
   "cell_type": "code",
   "execution_count": 39,
   "metadata": {},
   "outputs": [
    {
     "name": "stdout",
     "output_type": "stream",
     "text": [
      "[0.027243860419724101, 0.40760617658454984, 0.0, 0.037400601430108017, 0.45366656388735377, 0.25740551522100319]\n"
     ]
    }
   ],
   "source": [
    "pvals = []\n",
    "for b in browsers:\n",
    "    e = exp[exp.browser==b]\n",
    "    c = control[control.browser==b]\n",
    "    pval = stats.mannwhitneyu(e.n_clicks, c.n_clicks).pvalue\n",
    "    pvals.append(pval)\n",
    "    \n",
    "print (pvals)"
   ]
  },
  {
   "cell_type": "code",
   "execution_count": 40,
   "metadata": {},
   "outputs": [
    {
     "name": "stdout",
     "output_type": "stream",
     "text": [
      "[False False  True False False False] [ 0.1362193   0.81521235  0.          0.14960241  0.81521235  0.77221655]\n"
     ]
    }
   ],
   "source": [
    "# В качестве ответа введите количество незначимых изменений с точки зрения результатов, полученных после введения коррекции.\n",
    "# 5\n",
    "import statsmodels.stats.multitest as smm\n",
    "\n",
    "rej, pval_corr = smm.multipletests(pvals, alpha=0.05/6, method='holm')[:2]\n",
    "print rej, pval_corr"
   ]
  },
  {
   "cell_type": "code",
   "execution_count": 48,
   "metadata": {},
   "outputs": [
    {
     "name": "stdout",
     "output_type": "stream",
     "text": [
      "EXPERIMENT: [44.982746948554706, 45.14294190358467, 43.755617361273295, 36.93741284866483, 38.97737648371716, 39.85394721969546]\n",
      "CONTROL: [45.96274717919465, 46.97092963514274, 57.59041136008114, 36.29936674628208, 40.540484743383296, 40.593976593513354]\n"
     ]
    }
   ],
   "source": [
    "# 7. Для каждого браузера в каждой из двух групп (control и exp) посчитайте долю запросов, \n",
    "# в которых пользователь не кликнул ни разу. Это можно сделать, поделив сумму значений n_nonclk_queries на сумму значений \n",
    "# n_queries. Умножив это значение на 100, получим процент некликнутых запросов, который можно легче проинтерпретировать.\n",
    "# Сходятся ли результаты проведенного Вами анализа с показателем процента некликнутых запросов ?\n",
    "# Тестируемое изменение приводит к статистически значимому отличию только для одного браузера - Browser #14.\n",
    "# Для него на основе данных о некликнутых запросах можно закллючить, что тестируемое изменение влияет положительно: \n",
    "# доля некликнутых запросов снизилась с 57% до 43%\n",
    "\n",
    "exp_perc = []\n",
    "c_perc = []\n",
    "for b in browsers:\n",
    "    e = exp[exp.browser==b]\n",
    "    c = control[control.browser==b]\n",
    "    perc_e = (np.sum(e.n_nonclk_queries)*1./np.sum(e.n_queries))*100\n",
    "    perc_c = (np.sum(c.n_nonclk_queries)*1./np.sum(c.n_queries))*100\n",
    "    exp_perc.append(perc_e)\n",
    "    c_perc.append(perc_c)\n",
    "    \n",
    "print ('EXPERIMENT:' + ' ' + str(exp_perc))\n",
    "print ('CONTROL:' + ' ' + str(c_perc))"
   ]
  },
  {
   "cell_type": "code",
   "execution_count": null,
   "metadata": {
    "collapsed": true
   },
   "outputs": [],
   "source": []
  }
 ],
 "metadata": {
  "kernelspec": {
   "display_name": "Python 2",
   "language": "python",
   "name": "python2"
  },
  "language_info": {
   "codemirror_mode": {
    "name": "ipython",
    "version": 2
   },
   "file_extension": ".py",
   "mimetype": "text/x-python",
   "name": "python",
   "nbconvert_exporter": "python",
   "pygments_lexer": "ipython2",
   "version": "2.7.13"
  }
 },
 "nbformat": 4,
 "nbformat_minor": 2
}
