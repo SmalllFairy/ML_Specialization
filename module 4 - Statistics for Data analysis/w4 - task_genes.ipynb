{
 "cells": [
  {
   "cell_type": "code",
   "execution_count": 1,
   "metadata": {
    "collapsed": true
   },
   "outputs": [],
   "source": [
    "import pandas as pd\n",
    "import numpy as np\n",
    "\n",
    "import scipy\n",
    "import statsmodels.stats.multitest as smm\n",
    "from statsmodels.stats.weightstats import *"
   ]
  },
  {
   "cell_type": "raw",
   "metadata": {},
   "source": [
    "Описание используемых данных:\n",
    "Данные для этой задачи взяты из исследования, проведенного в Stanford School of Medicine. В исследовании была предпринята попытка выявить набор генов, которые позволили бы более точно диагностировать возникновение рака груди на самых ранних стадиях.\n",
    "В эксперименте принимали участие 24 человек, у которых не было рака груди (normal), 25 человек, у которых это заболевание было диагностировано на ранней стадии (early neoplasia), и 23 человека с сильно выраженными симптомами (cancer).\n",
    "Ученые провели секвенирование биологического материала испытуемых, чтобы понять, какие из этих генов наиболее активны в клетках больных людей.\n",
    "Секвенирование — это определение степени активности генов в анализируемом образце с помощью подсчёта количества соответствующей каждому гену РНК.\n",
    "В данных для этого задания вы найдете именно эту количественную меру активности каждого из 15748 генов у каждого из 72 человек, принимавших участие в эксперименте.\n",
    "Вам нужно будет определить те гены, активность которых у людей в разных стадиях заболевания отличается статистически значимо.\n",
    "Кроме того, вам нужно будет оценить не только статистическую, но и практическую значимость этих результатов, которая часто используется в подобных исследованиях.\n",
    "Диагноз человека содержится в столбце под названием \"Diagnosis\"."
   ]
  },
  {
   "cell_type": "raw",
   "metadata": {},
   "source": [
    "Часть 1: применение t-критерия Стьюдента\n",
    "В первой части вам нужно будет применить критерий Стьюдента для проверки гипотезы о равенстве средних в двух независимых выборках. Применить критерий для каждого гена нужно будет дважды:\n",
    " - для групп normal (control) и early neoplasia (treatment)\n",
    " - для групп early neoplasia (control) и cancer (treatment)\n",
    "В качестве ответа в этой части задания необходимо указать количество статистически значимых отличий, которые вы нашли с помощью t-критерия Стьюдента, то есть число генов, у которых p-value этого теста оказался меньше, чем уровень значимости 0.05."
   ]
  },
  {
   "cell_type": "code",
   "execution_count": 2,
   "metadata": {},
   "outputs": [
    {
     "data": {
      "text/html": [
       "<div>\n",
       "<style>\n",
       "    .dataframe thead tr:only-child th {\n",
       "        text-align: right;\n",
       "    }\n",
       "\n",
       "    .dataframe thead th {\n",
       "        text-align: left;\n",
       "    }\n",
       "\n",
       "    .dataframe tbody tr th {\n",
       "        vertical-align: top;\n",
       "    }\n",
       "</style>\n",
       "<table border=\"1\" class=\"dataframe\">\n",
       "  <thead>\n",
       "    <tr style=\"text-align: right;\">\n",
       "      <th></th>\n",
       "      <th>Patient_id</th>\n",
       "      <th>Diagnosis</th>\n",
       "      <th>LOC643837</th>\n",
       "      <th>LOC100130417</th>\n",
       "      <th>SAMD11</th>\n",
       "      <th>NOC2L</th>\n",
       "      <th>KLHL17</th>\n",
       "      <th>PLEKHN1</th>\n",
       "      <th>C1orf170</th>\n",
       "      <th>HES4</th>\n",
       "      <th>...</th>\n",
       "      <th>CLIC2</th>\n",
       "      <th>RPS4Y1</th>\n",
       "      <th>ZFY</th>\n",
       "      <th>PRKY</th>\n",
       "      <th>USP9Y</th>\n",
       "      <th>DDX3Y</th>\n",
       "      <th>CD24</th>\n",
       "      <th>CYorf15B</th>\n",
       "      <th>KDM5D</th>\n",
       "      <th>EIF1AY</th>\n",
       "    </tr>\n",
       "  </thead>\n",
       "  <tbody>\n",
       "    <tr>\n",
       "      <th>0</th>\n",
       "      <td>STT5425_Breast_001_normal</td>\n",
       "      <td>normal</td>\n",
       "      <td>1.257614</td>\n",
       "      <td>2.408148</td>\n",
       "      <td>13.368622</td>\n",
       "      <td>9.494779</td>\n",
       "      <td>20.880435</td>\n",
       "      <td>12.722017</td>\n",
       "      <td>9.494779</td>\n",
       "      <td>54.349694</td>\n",
       "      <td>...</td>\n",
       "      <td>4.761250</td>\n",
       "      <td>1.257614</td>\n",
       "      <td>1.257614</td>\n",
       "      <td>1.257614</td>\n",
       "      <td>1.257614</td>\n",
       "      <td>1.257614</td>\n",
       "      <td>23.268694</td>\n",
       "      <td>1.257614</td>\n",
       "      <td>1.257614</td>\n",
       "      <td>1.257614</td>\n",
       "    </tr>\n",
       "    <tr>\n",
       "      <th>1</th>\n",
       "      <td>STT5427_Breast_023_normal</td>\n",
       "      <td>normal</td>\n",
       "      <td>4.567931</td>\n",
       "      <td>16.602734</td>\n",
       "      <td>42.477752</td>\n",
       "      <td>25.562376</td>\n",
       "      <td>23.221137</td>\n",
       "      <td>11.622386</td>\n",
       "      <td>14.330573</td>\n",
       "      <td>72.445474</td>\n",
       "      <td>...</td>\n",
       "      <td>6.871902</td>\n",
       "      <td>1.815112</td>\n",
       "      <td>1.815112</td>\n",
       "      <td>1.815112</td>\n",
       "      <td>1.815112</td>\n",
       "      <td>1.815112</td>\n",
       "      <td>10.427023</td>\n",
       "      <td>1.815112</td>\n",
       "      <td>1.815112</td>\n",
       "      <td>1.815112</td>\n",
       "    </tr>\n",
       "    <tr>\n",
       "      <th>2</th>\n",
       "      <td>STT5430_Breast_002_normal</td>\n",
       "      <td>normal</td>\n",
       "      <td>2.077597</td>\n",
       "      <td>3.978294</td>\n",
       "      <td>12.863214</td>\n",
       "      <td>13.728915</td>\n",
       "      <td>14.543176</td>\n",
       "      <td>14.141907</td>\n",
       "      <td>6.232790</td>\n",
       "      <td>57.011005</td>\n",
       "      <td>...</td>\n",
       "      <td>7.096343</td>\n",
       "      <td>2.077597</td>\n",
       "      <td>2.077597</td>\n",
       "      <td>2.077597</td>\n",
       "      <td>2.077597</td>\n",
       "      <td>2.077597</td>\n",
       "      <td>22.344226</td>\n",
       "      <td>2.077597</td>\n",
       "      <td>2.077597</td>\n",
       "      <td>2.077597</td>\n",
       "    </tr>\n",
       "    <tr>\n",
       "      <th>3</th>\n",
       "      <td>STT5439_Breast_003_normal</td>\n",
       "      <td>normal</td>\n",
       "      <td>2.066576</td>\n",
       "      <td>8.520713</td>\n",
       "      <td>14.466035</td>\n",
       "      <td>7.823932</td>\n",
       "      <td>8.520713</td>\n",
       "      <td>2.066576</td>\n",
       "      <td>10.870009</td>\n",
       "      <td>53.292034</td>\n",
       "      <td>...</td>\n",
       "      <td>5.200770</td>\n",
       "      <td>2.066576</td>\n",
       "      <td>2.066576</td>\n",
       "      <td>2.066576</td>\n",
       "      <td>2.066576</td>\n",
       "      <td>2.066576</td>\n",
       "      <td>49.295538</td>\n",
       "      <td>2.066576</td>\n",
       "      <td>2.066576</td>\n",
       "      <td>2.066576</td>\n",
       "    </tr>\n",
       "    <tr>\n",
       "      <th>4</th>\n",
       "      <td>STT5441_Breast_004_normal</td>\n",
       "      <td>normal</td>\n",
       "      <td>2.613616</td>\n",
       "      <td>3.434965</td>\n",
       "      <td>12.682222</td>\n",
       "      <td>10.543189</td>\n",
       "      <td>26.688686</td>\n",
       "      <td>12.484822</td>\n",
       "      <td>1.364917</td>\n",
       "      <td>67.140393</td>\n",
       "      <td>...</td>\n",
       "      <td>11.227770</td>\n",
       "      <td>1.364917</td>\n",
       "      <td>1.364917</td>\n",
       "      <td>1.364917</td>\n",
       "      <td>1.364917</td>\n",
       "      <td>1.364917</td>\n",
       "      <td>23.627911</td>\n",
       "      <td>1.364917</td>\n",
       "      <td>1.364917</td>\n",
       "      <td>1.364917</td>\n",
       "    </tr>\n",
       "  </tbody>\n",
       "</table>\n",
       "<p>5 rows × 15750 columns</p>\n",
       "</div>"
      ],
      "text/plain": [
       "                  Patient_id Diagnosis  LOC643837  LOC100130417     SAMD11  \\\n",
       "0  STT5425_Breast_001_normal    normal   1.257614      2.408148  13.368622   \n",
       "1  STT5427_Breast_023_normal    normal   4.567931     16.602734  42.477752   \n",
       "2  STT5430_Breast_002_normal    normal   2.077597      3.978294  12.863214   \n",
       "3  STT5439_Breast_003_normal    normal   2.066576      8.520713  14.466035   \n",
       "4  STT5441_Breast_004_normal    normal   2.613616      3.434965  12.682222   \n",
       "\n",
       "       NOC2L     KLHL17    PLEKHN1   C1orf170       HES4    ...         CLIC2  \\\n",
       "0   9.494779  20.880435  12.722017   9.494779  54.349694    ...      4.761250   \n",
       "1  25.562376  23.221137  11.622386  14.330573  72.445474    ...      6.871902   \n",
       "2  13.728915  14.543176  14.141907   6.232790  57.011005    ...      7.096343   \n",
       "3   7.823932   8.520713   2.066576  10.870009  53.292034    ...      5.200770   \n",
       "4  10.543189  26.688686  12.484822   1.364917  67.140393    ...     11.227770   \n",
       "\n",
       "     RPS4Y1       ZFY      PRKY     USP9Y     DDX3Y       CD24  CYorf15B  \\\n",
       "0  1.257614  1.257614  1.257614  1.257614  1.257614  23.268694  1.257614   \n",
       "1  1.815112  1.815112  1.815112  1.815112  1.815112  10.427023  1.815112   \n",
       "2  2.077597  2.077597  2.077597  2.077597  2.077597  22.344226  2.077597   \n",
       "3  2.066576  2.066576  2.066576  2.066576  2.066576  49.295538  2.066576   \n",
       "4  1.364917  1.364917  1.364917  1.364917  1.364917  23.627911  1.364917   \n",
       "\n",
       "      KDM5D    EIF1AY  \n",
       "0  1.257614  1.257614  \n",
       "1  1.815112  1.815112  \n",
       "2  2.077597  2.077597  \n",
       "3  2.066576  2.066576  \n",
       "4  1.364917  1.364917  \n",
       "\n",
       "[5 rows x 15750 columns]"
      ]
     },
     "execution_count": 2,
     "metadata": {},
     "output_type": "execute_result"
    }
   ],
   "source": [
    "data = pd.read_csv(\"gene_high_throughput_sequencing.csv\")\n",
    "data.head()"
   ]
  },
  {
   "cell_type": "code",
   "execution_count": 3,
   "metadata": {},
   "outputs": [
    {
     "data": {
      "text/plain": [
       "(72, 15750)"
      ]
     },
     "execution_count": 3,
     "metadata": {},
     "output_type": "execute_result"
    }
   ],
   "source": [
    "data.shape"
   ]
  },
  {
   "cell_type": "code",
   "execution_count": 5,
   "metadata": {},
   "outputs": [
    {
     "data": {
      "text/plain": [
       "early neoplasia    25\n",
       "normal             24\n",
       "cancer             23\n",
       "Name: Diagnosis, dtype: int64"
      ]
     },
     "execution_count": 5,
     "metadata": {},
     "output_type": "execute_result"
    }
   ],
   "source": [
    "data.Diagnosis.value_counts()"
   ]
  },
  {
   "cell_type": "code",
   "execution_count": 4,
   "metadata": {},
   "outputs": [
    {
     "data": {
      "text/html": [
       "<div>\n",
       "<style>\n",
       "    .dataframe thead tr:only-child th {\n",
       "        text-align: right;\n",
       "    }\n",
       "\n",
       "    .dataframe thead th {\n",
       "        text-align: left;\n",
       "    }\n",
       "\n",
       "    .dataframe tbody tr th {\n",
       "        vertical-align: top;\n",
       "    }\n",
       "</style>\n",
       "<table border=\"1\" class=\"dataframe\">\n",
       "  <thead>\n",
       "    <tr style=\"text-align: right;\">\n",
       "      <th></th>\n",
       "      <th>LOC643837</th>\n",
       "      <th>LOC100130417</th>\n",
       "      <th>SAMD11</th>\n",
       "      <th>NOC2L</th>\n",
       "      <th>KLHL17</th>\n",
       "      <th>PLEKHN1</th>\n",
       "      <th>C1orf170</th>\n",
       "      <th>HES4</th>\n",
       "      <th>ISG15</th>\n",
       "      <th>AGRN</th>\n",
       "      <th>...</th>\n",
       "      <th>CLIC2</th>\n",
       "      <th>RPS4Y1</th>\n",
       "      <th>ZFY</th>\n",
       "      <th>PRKY</th>\n",
       "      <th>USP9Y</th>\n",
       "      <th>DDX3Y</th>\n",
       "      <th>CD24</th>\n",
       "      <th>CYorf15B</th>\n",
       "      <th>KDM5D</th>\n",
       "      <th>EIF1AY</th>\n",
       "    </tr>\n",
       "  </thead>\n",
       "  <tbody>\n",
       "    <tr>\n",
       "      <th>count</th>\n",
       "      <td>72.000000</td>\n",
       "      <td>72.000000</td>\n",
       "      <td>72.000000</td>\n",
       "      <td>72.000000</td>\n",
       "      <td>72.000000</td>\n",
       "      <td>72.000000</td>\n",
       "      <td>72.000000</td>\n",
       "      <td>72.000000</td>\n",
       "      <td>72.000000</td>\n",
       "      <td>72.000000</td>\n",
       "      <td>...</td>\n",
       "      <td>72.000000</td>\n",
       "      <td>72.000000</td>\n",
       "      <td>72.000000</td>\n",
       "      <td>72.000000</td>\n",
       "      <td>72.000000</td>\n",
       "      <td>72.000000</td>\n",
       "      <td>72.000000</td>\n",
       "      <td>72.000000</td>\n",
       "      <td>72.000000</td>\n",
       "      <td>72.000000</td>\n",
       "    </tr>\n",
       "    <tr>\n",
       "      <th>mean</th>\n",
       "      <td>2.463922</td>\n",
       "      <td>7.100958</td>\n",
       "      <td>19.056151</td>\n",
       "      <td>15.618688</td>\n",
       "      <td>23.537120</td>\n",
       "      <td>11.303466</td>\n",
       "      <td>8.921396</td>\n",
       "      <td>63.270147</td>\n",
       "      <td>53.906324</td>\n",
       "      <td>70.678573</td>\n",
       "      <td>...</td>\n",
       "      <td>5.563444</td>\n",
       "      <td>2.192029</td>\n",
       "      <td>1.967424</td>\n",
       "      <td>2.181360</td>\n",
       "      <td>1.729308</td>\n",
       "      <td>1.980733</td>\n",
       "      <td>16.834075</td>\n",
       "      <td>1.825827</td>\n",
       "      <td>2.287380</td>\n",
       "      <td>1.756827</td>\n",
       "    </tr>\n",
       "    <tr>\n",
       "      <th>std</th>\n",
       "      <td>1.413687</td>\n",
       "      <td>4.164703</td>\n",
       "      <td>9.287753</td>\n",
       "      <td>4.664146</td>\n",
       "      <td>4.475294</td>\n",
       "      <td>4.055122</td>\n",
       "      <td>3.270713</td>\n",
       "      <td>13.792140</td>\n",
       "      <td>45.635498</td>\n",
       "      <td>21.326237</td>\n",
       "      <td>...</td>\n",
       "      <td>2.389789</td>\n",
       "      <td>2.454218</td>\n",
       "      <td>2.047129</td>\n",
       "      <td>2.542652</td>\n",
       "      <td>1.507149</td>\n",
       "      <td>2.230157</td>\n",
       "      <td>7.126802</td>\n",
       "      <td>1.902716</td>\n",
       "      <td>3.185571</td>\n",
       "      <td>1.623151</td>\n",
       "    </tr>\n",
       "    <tr>\n",
       "      <th>min</th>\n",
       "      <td>0.833898</td>\n",
       "      <td>1.231043</td>\n",
       "      <td>4.941211</td>\n",
       "      <td>6.395270</td>\n",
       "      <td>8.520713</td>\n",
       "      <td>2.066576</td>\n",
       "      <td>1.364917</td>\n",
       "      <td>42.544976</td>\n",
       "      <td>24.616767</td>\n",
       "      <td>42.631422</td>\n",
       "      <td>...</td>\n",
       "      <td>1.144240</td>\n",
       "      <td>0.853957</td>\n",
       "      <td>0.853957</td>\n",
       "      <td>0.853957</td>\n",
       "      <td>0.833898</td>\n",
       "      <td>0.833898</td>\n",
       "      <td>4.675683</td>\n",
       "      <td>0.833898</td>\n",
       "      <td>0.853957</td>\n",
       "      <td>0.833898</td>\n",
       "    </tr>\n",
       "    <tr>\n",
       "      <th>25%</th>\n",
       "      <td>1.284642</td>\n",
       "      <td>3.892403</td>\n",
       "      <td>13.423946</td>\n",
       "      <td>12.574596</td>\n",
       "      <td>21.151624</td>\n",
       "      <td>8.712898</td>\n",
       "      <td>6.213396</td>\n",
       "      <td>53.093627</td>\n",
       "      <td>34.009687</td>\n",
       "      <td>54.202100</td>\n",
       "      <td>...</td>\n",
       "      <td>3.805875</td>\n",
       "      <td>1.042783</td>\n",
       "      <td>1.011350</td>\n",
       "      <td>1.011350</td>\n",
       "      <td>1.003337</td>\n",
       "      <td>1.003337</td>\n",
       "      <td>11.186633</td>\n",
       "      <td>1.003337</td>\n",
       "      <td>1.011350</td>\n",
       "      <td>1.003337</td>\n",
       "    </tr>\n",
       "    <tr>\n",
       "      <th>50%</th>\n",
       "      <td>2.104677</td>\n",
       "      <td>6.315551</td>\n",
       "      <td>16.734855</td>\n",
       "      <td>14.586150</td>\n",
       "      <td>23.477006</td>\n",
       "      <td>11.172590</td>\n",
       "      <td>8.703397</td>\n",
       "      <td>63.230911</td>\n",
       "      <td>39.554954</td>\n",
       "      <td>65.510651</td>\n",
       "      <td>...</td>\n",
       "      <td>5.617824</td>\n",
       "      <td>1.339507</td>\n",
       "      <td>1.273861</td>\n",
       "      <td>1.298543</td>\n",
       "      <td>1.252527</td>\n",
       "      <td>1.252527</td>\n",
       "      <td>16.514389</td>\n",
       "      <td>1.252527</td>\n",
       "      <td>1.273861</td>\n",
       "      <td>1.252527</td>\n",
       "    </tr>\n",
       "    <tr>\n",
       "      <th>75%</th>\n",
       "      <td>3.345067</td>\n",
       "      <td>8.916399</td>\n",
       "      <td>21.884325</td>\n",
       "      <td>17.695678</td>\n",
       "      <td>26.471909</td>\n",
       "      <td>13.568625</td>\n",
       "      <td>11.139240</td>\n",
       "      <td>69.880705</td>\n",
       "      <td>50.295756</td>\n",
       "      <td>79.427207</td>\n",
       "      <td>...</td>\n",
       "      <td>7.100942</td>\n",
       "      <td>1.815754</td>\n",
       "      <td>1.647255</td>\n",
       "      <td>1.677971</td>\n",
       "      <td>1.625364</td>\n",
       "      <td>1.611299</td>\n",
       "      <td>21.849385</td>\n",
       "      <td>1.607345</td>\n",
       "      <td>1.647255</td>\n",
       "      <td>1.611299</td>\n",
       "    </tr>\n",
       "    <tr>\n",
       "      <th>max</th>\n",
       "      <td>7.364879</td>\n",
       "      <td>20.006038</td>\n",
       "      <td>60.584449</td>\n",
       "      <td>29.659104</td>\n",
       "      <td>34.110743</td>\n",
       "      <td>27.441093</td>\n",
       "      <td>17.121366</td>\n",
       "      <td>132.144503</td>\n",
       "      <td>327.590426</td>\n",
       "      <td>128.606260</td>\n",
       "      <td>...</td>\n",
       "      <td>11.227770</td>\n",
       "      <td>11.913855</td>\n",
       "      <td>10.883310</td>\n",
       "      <td>11.692697</td>\n",
       "      <td>10.392539</td>\n",
       "      <td>10.640754</td>\n",
       "      <td>49.295538</td>\n",
       "      <td>9.919132</td>\n",
       "      <td>17.278985</td>\n",
       "      <td>9.333904</td>\n",
       "    </tr>\n",
       "  </tbody>\n",
       "</table>\n",
       "<p>8 rows × 15748 columns</p>\n",
       "</div>"
      ],
      "text/plain": [
       "       LOC643837  LOC100130417     SAMD11      NOC2L     KLHL17    PLEKHN1  \\\n",
       "count  72.000000     72.000000  72.000000  72.000000  72.000000  72.000000   \n",
       "mean    2.463922      7.100958  19.056151  15.618688  23.537120  11.303466   \n",
       "std     1.413687      4.164703   9.287753   4.664146   4.475294   4.055122   \n",
       "min     0.833898      1.231043   4.941211   6.395270   8.520713   2.066576   \n",
       "25%     1.284642      3.892403  13.423946  12.574596  21.151624   8.712898   \n",
       "50%     2.104677      6.315551  16.734855  14.586150  23.477006  11.172590   \n",
       "75%     3.345067      8.916399  21.884325  17.695678  26.471909  13.568625   \n",
       "max     7.364879     20.006038  60.584449  29.659104  34.110743  27.441093   \n",
       "\n",
       "        C1orf170        HES4       ISG15        AGRN    ...          CLIC2  \\\n",
       "count  72.000000   72.000000   72.000000   72.000000    ...      72.000000   \n",
       "mean    8.921396   63.270147   53.906324   70.678573    ...       5.563444   \n",
       "std     3.270713   13.792140   45.635498   21.326237    ...       2.389789   \n",
       "min     1.364917   42.544976   24.616767   42.631422    ...       1.144240   \n",
       "25%     6.213396   53.093627   34.009687   54.202100    ...       3.805875   \n",
       "50%     8.703397   63.230911   39.554954   65.510651    ...       5.617824   \n",
       "75%    11.139240   69.880705   50.295756   79.427207    ...       7.100942   \n",
       "max    17.121366  132.144503  327.590426  128.606260    ...      11.227770   \n",
       "\n",
       "          RPS4Y1        ZFY       PRKY      USP9Y      DDX3Y       CD24  \\\n",
       "count  72.000000  72.000000  72.000000  72.000000  72.000000  72.000000   \n",
       "mean    2.192029   1.967424   2.181360   1.729308   1.980733  16.834075   \n",
       "std     2.454218   2.047129   2.542652   1.507149   2.230157   7.126802   \n",
       "min     0.853957   0.853957   0.853957   0.833898   0.833898   4.675683   \n",
       "25%     1.042783   1.011350   1.011350   1.003337   1.003337  11.186633   \n",
       "50%     1.339507   1.273861   1.298543   1.252527   1.252527  16.514389   \n",
       "75%     1.815754   1.647255   1.677971   1.625364   1.611299  21.849385   \n",
       "max    11.913855  10.883310  11.692697  10.392539  10.640754  49.295538   \n",
       "\n",
       "        CYorf15B      KDM5D     EIF1AY  \n",
       "count  72.000000  72.000000  72.000000  \n",
       "mean    1.825827   2.287380   1.756827  \n",
       "std     1.902716   3.185571   1.623151  \n",
       "min     0.833898   0.853957   0.833898  \n",
       "25%     1.003337   1.011350   1.003337  \n",
       "50%     1.252527   1.273861   1.252527  \n",
       "75%     1.607345   1.647255   1.611299  \n",
       "max     9.919132  17.278985   9.333904  \n",
       "\n",
       "[8 rows x 15748 columns]"
      ]
     },
     "execution_count": 4,
     "metadata": {},
     "output_type": "execute_result"
    }
   ],
   "source": [
    "data.describe()"
   ]
  },
  {
   "cell_type": "code",
   "execution_count": 6,
   "metadata": {},
   "outputs": [
    {
     "name": "stdout",
     "output_type": "stream",
     "text": [
      "['LOC643837' 'LOC100130417' 'SAMD11' ..., 'CYorf15B' 'KDM5D' 'EIF1AY']\n"
     ]
    }
   ],
   "source": [
    "genes = np.array(data.columns)[2:]\n",
    "print genes"
   ]
  },
  {
   "cell_type": "code",
   "execution_count": 8,
   "metadata": {
    "collapsed": true
   },
   "outputs": [],
   "source": [
    "normal = data[data.Diagnosis=='normal']\n",
    "early_neoplasia = data[data.Diagnosis=='early neoplasia']\n",
    "cancer = data[data.Diagnosis=='cancer']"
   ]
  },
  {
   "cell_type": "code",
   "execution_count": 15,
   "metadata": {},
   "outputs": [
    {
     "name": "stdout",
     "output_type": "stream",
     "text": [
      "(24, 15750)\n",
      "(25, 15750)\n",
      "(23, 15750)\n"
     ]
    }
   ],
   "source": [
    "print normal.shape\n",
    "print early_neoplasia.shape\n",
    "print cancer.shape"
   ]
  },
  {
   "cell_type": "code",
   "execution_count": 1,
   "metadata": {},
   "outputs": [],
   "source": [
    "for gene in genes[:100]:\n",
    "    print (normal[gene])"
   ]
  },
  {
   "cell_type": "code",
   "execution_count": 17,
   "metadata": {
    "collapsed": true
   },
   "outputs": [],
   "source": [
    "ttest_pvals1=[]\n",
    "ttest_pvals2=[]\n",
    "\n",
    "for gene in genes:\n",
    "    ttest_pvals1.append(scipy.stats.ttest_ind(normal[gene], early_neoplasia[gene], equal_var = False).pvalue)\n",
    "    ttest_pvals2.append(scipy.stats.ttest_ind(early_neoplasia[gene], cancer[gene], equal_var = False).pvalue)"
   ]
  },
  {
   "cell_type": "code",
   "execution_count": 18,
   "metadata": {},
   "outputs": [
    {
     "name": "stdout",
     "output_type": "stream",
     "text": [
      "1575 3490\n"
     ]
    }
   ],
   "source": [
    "alpha = 0.05\n",
    "ttest_pvals1 = np.array(ttest_pvals1)\n",
    "ttest_pvals2 = np.array(ttest_pvals2)\n",
    "\n",
    "a11 = np.sum(ttest_pvals1<alpha)\n",
    "a12 = np.sum(ttest_pvals2<alpha)\n",
    "\n",
    "print a11, a12"
   ]
  },
  {
   "cell_type": "raw",
   "metadata": {},
   "source": [
    "Часть 2: поправка методом Холма\n",
    "В этой части задания нужно будет применить поправку Холма для получившихся двух наборов достигаемых уровней значимости из предыдущей части. Обратите внимание, что поскольку вы будете делать поправку для каждого из двух наборов p-value отдельно, то проблема, связанная с множественной проверкой останется.\n",
    "Для того, чтобы ее устранить, достаточно воспользоваться поправкой Бонферрони, то есть использовать уровень значимости 0.05 / 2 вместо 0.05 для дальнейшего уточнения значений p-value c помощью метода Холма.\n",
    "В качестве ответа к этому заданию требуется ввести количество значимых отличий в каждой группе после того, как произведена коррекция Холма-Бонферрони. Причем это число нужно ввести с учетом практической значимости: посчитайте для каждого значимого изменения fold change и выпишите в ответ число таких значимых изменений, абсолютное значение fold change которых больше, чем 1.5.\n",
    "Обратите внимание, что:\n",
    "- применять поправку на множественную проверку нужно ко всем значениям достигаемых уровней значимости, а не только для тех, которые меньше значения уровня доверия.\n",
    "- при использовании поправки на уровне значимости 0.025 меняются значения достигаемого уровня значимости, но не меняется значение уровня доверия (то есть для отбора значимых изменений скорректированные значения уровня значимости нужно сравнивать с порогом 0.025, а не 0.05)!"
   ]
  },
  {
   "cell_type": "code",
   "execution_count": 20,
   "metadata": {
    "collapsed": true
   },
   "outputs": [],
   "source": [
    "rej1, pval_corr1 = smm.multipletests(ttest_pvals1, alpha=alpha/2, method='holm')[:2]\n",
    "rej2, pval_corr2 = smm.multipletests(ttest_pvals2, alpha=alpha/2, method='holm')[:2]"
   ]
  },
  {
   "cell_type": "code",
   "execution_count": 21,
   "metadata": {
    "collapsed": true
   },
   "outputs": [],
   "source": [
    "def fold_change(C, T):\n",
    "    res = 0\n",
    "    if T>C:\n",
    "        res = T/C\n",
    "    elif C>T:\n",
    "        res = C/T\n",
    "    return res"
   ]
  },
  {
   "cell_type": "code",
   "execution_count": 23,
   "metadata": {},
   "outputs": [
    {
     "name": "stdout",
     "output_type": "stream",
     "text": [
      "2 77\n"
     ]
    }
   ],
   "source": [
    "c1=0\n",
    "c2=0\n",
    "\n",
    "for i in range(len(genes)):\n",
    "    gene = genes[i]\n",
    "    fc1 = fold_change(np.mean(normal[gene]),np.mean(early_neoplasia[gene]))\n",
    "    if np.abs(fc1)>1.5 and rej1[i]:\n",
    "        c1+=1\n",
    "    \n",
    "    fc2 = fold_change(np.mean(early_neoplasia[gene]),np.mean(cancer[gene]))\n",
    "    if np.abs(fc2)>1.5 and rej2[i]:\n",
    "        c2+=1\n",
    "        \n",
    "print c1, c2"
   ]
  },
  {
   "cell_type": "raw",
   "metadata": {},
   "source": [
    "Часть 3: поправка методом Бенджамини-Хохберга\n",
    "Данная часть задания аналогична второй части за исключением того, что нужно будет использовать метод Бенджамини-Хохберга.\n",
    "Обратите внимание, что методы коррекции, которые контролируют FDR, допускает больше ошибок первого рода и имеют большую мощность, чем методы, контролирующие FWER. Большая мощность означает, что эти методы будут совершать меньше ошибок второго рода (то есть будут лучше улавливать отклонения от H0, когда они есть, и будут чаще отклонять H0, когда отличий нет).\n",
    "В качестве ответа к этому заданию требуется ввести количество значимых отличий в каждой группе после того, как произведена коррекция Бенджамини-Хохберга, причем так же, как и во второй части, считать только такие отличия, у которых abs(fold change) > 1.5."
   ]
  },
  {
   "cell_type": "code",
   "execution_count": 24,
   "metadata": {
    "collapsed": true
   },
   "outputs": [],
   "source": [
    "rej1, pval_corr1 = smm.multipletests(ttest_pvals1, alpha=alpha/2, method='fdr_bh')[:2]\n",
    "rej2, pval_corr2 = smm.multipletests(ttest_pvals2, alpha=alpha/2, method='fdr_bh')[:2]"
   ]
  },
  {
   "cell_type": "code",
   "execution_count": 25,
   "metadata": {},
   "outputs": [
    {
     "name": "stdout",
     "output_type": "stream",
     "text": [
      "4 524\n"
     ]
    }
   ],
   "source": [
    "c1=0\n",
    "c2=0\n",
    "for i in range(len(genes)):\n",
    "    gene = genes[i]\n",
    "    fc1 = fold_change(np.mean(normal[gene]),np.mean(early_neoplasia[gene]))\n",
    "    if np.abs(fc1)>1.5 and rej1[i]:\n",
    "        c1+=1\n",
    "    \n",
    "    fc2 = fold_change(np.mean(early_neoplasia[gene]),np.mean(cancer[gene]))\n",
    "    if np.abs(fc2)>1.5 and rej2[i]:\n",
    "        c2+=1\n",
    "        \n",
    "print c1, c2"
   ]
  },
  {
   "cell_type": "code",
   "execution_count": null,
   "metadata": {
    "collapsed": true
   },
   "outputs": [],
   "source": []
  }
 ],
 "metadata": {
  "kernelspec": {
   "display_name": "Python 2",
   "language": "python",
   "name": "python2"
  },
  "language_info": {
   "codemirror_mode": {
    "name": "ipython",
    "version": 2
   },
   "file_extension": ".py",
   "mimetype": "text/x-python",
   "name": "python",
   "nbconvert_exporter": "python",
   "pygments_lexer": "ipython2",
   "version": "2.7.13"
  }
 },
 "nbformat": 4,
 "nbformat_minor": 2
}
