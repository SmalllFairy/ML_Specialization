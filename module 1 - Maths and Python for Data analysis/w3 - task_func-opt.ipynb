{
 "cells": [
  {
   "cell_type": "code",
   "execution_count": 133,
   "metadata": {},
   "outputs": [
    {
     "data": {
      "image/png": "[encoded data removed]",
      "text/plain": [
       "<matplotlib.figure.Figure at 0x1163e4c50>"
      ]
     },
     "metadata": {},
     "output_type": "display_data"
    }
   ],
   "source": [
    "from scipy import optimize\n",
    "import math\n",
    "import numpy as np\n",
    "import matplotlib.pyplot as plt\n",
    "\n",
    "\n",
    "    \n",
    "def fun (x):\n",
    "    return math.sin(x / 5) * math.exp(x / 10) + 5 * math.exp(-x / 2)\n",
    "\n",
    "C = 5 * np.exp(-x / 2) + np.sin(x / 5) * np.exp(x / 10)\n",
    "\n",
    "x = np.arange(0.0, 33.0)\n",
    "plt.plot(x, C)\n",
    "\n",
    "plt.show()"
   ]
  },
  {
   "cell_type": "code",
   "execution_count": 95,
   "metadata": {},
   "outputs": [
    {
     "name": "stdout",
     "output_type": "stream",
     "text": [
      "      fun: 1.745268290344928\n",
      " hess_inv: array([[ 5.98750711]])\n",
      "      jac: array([ -2.05636024e-06])\n",
      "  message: 'Optimization terminated successfully.'\n",
      "     nfev: 21\n",
      "      nit: 6\n",
      "     njev: 7\n",
      "   status: 0\n",
      "  success: True\n",
      "        x: array([ 4.13627619])\n"
     ]
    }
   ],
   "source": [
    "# Задача 1. Минимизация гладкой функции\n",
    "\n",
    "x0 = 2\n",
    "res = optimize.minimize(fun, x0, method='BFGS', jac=None, tol=None, callback=None)\n",
    "print res\n"
   ]
  },
  {
   "cell_type": "code",
   "execution_count": 93,
   "metadata": {},
   "outputs": [
    {
     "name": "stdout",
     "output_type": "stream",
     "text": [
      "      fun: -11.898894665981322\n",
      " hess_inv: array([[ 1.67940841]])\n",
      "      jac: array([ 0.])\n",
      "  message: 'Optimization terminated successfully.'\n",
      "     nfev: 21\n",
      "      nit: 6\n",
      "     njev: 7\n",
      "   status: 0\n",
      "  success: True\n",
      "        x: array([ 25.880193])\n"
     ]
    }
   ],
   "source": [
    "x0 = 30\n",
    "res = optimize.minimize(fun, x0, method='BFGS', jac=None, tol=None, callback=None)\n",
    "print res"
   ]
  },
  {
   "cell_type": "code",
   "execution_count": 99,
   "metadata": {},
   "outputs": [
    {
     "name": "stdout",
     "output_type": "stream",
     "text": [
      "     fun: -11.898894665949447\n",
      "     jac: array([  6.03961325e-06])\n",
      " message: 'Optimization terminated successfully.'\n",
      "    nfev: 81\n",
      "     nit: 4\n",
      " success: True\n",
      "       x: array([ 25.88020338])\n"
     ]
    }
   ],
   "source": [
    "# Задача 2. Глобальная оптимизация\n",
    "bounds = [(1, 30)]\n",
    "res = optimize.differential_evolution(fun, bounds)\n",
    "print res"
   ]
  },
  {
   "cell_type": "code",
   "execution_count": 179,
   "metadata": {},
   "outputs": [
    {
     "data": {
      "image/png": "[encoded data removed]",
      "text/plain": [
       "<matplotlib.figure.Figure at 0x116648310>"
      ]
     },
     "metadata": {},
     "output_type": "display_data"
    }
   ],
   "source": [
    "# Задача 3. Минимизация негладкой функции\n",
    "    \n",
    "def fun2 (x):\n",
    "       return  np.int(math.sin(x / 5) * math.exp(x / 10) + 5 * math.exp(-x / 2))\n",
    "\n",
    "\n",
    "B = np.round(5 * np.exp(-x / 2) + np.sin(x / 5) * np.exp(x / 10))\n",
    "\n",
    "x = np.arange(20.0, 32.0)\n",
    "plt.plot(x, B)\n",
    "\n",
    "plt.show()\n"
   ]
  },
  {
   "cell_type": "code",
   "execution_count": 180,
   "metadata": {},
   "outputs": [
    {
     "name": "stdout",
     "output_type": "stream",
     "text": [
      "      fun: -5\n",
      " hess_inv: array([[1]])\n",
      "      jac: array([ 0.])\n",
      "  message: 'Optimization terminated successfully.'\n",
      "     nfev: 3\n",
      "      nit: 0\n",
      "     njev: 1\n",
      "   status: 0\n",
      "  success: True\n",
      "        x: array([ 30.])\n"
     ]
    }
   ],
   "source": [
    "x0 = 30\n",
    "res = optimize.minimize(fun2, x0, method='BFGS', jac=None, tol=None, callback=None)\n",
    "print res\n"
   ]
  },
  {
   "cell_type": "code",
   "execution_count": 181,
   "metadata": {},
   "outputs": [
    {
     "name": "stdout",
     "output_type": "stream",
     "text": [
      "     fun: -11.0\n",
      " message: 'Optimization terminated successfully.'\n",
      "    nfev: 77\n",
      "     nit: 4\n",
      " success: True\n",
      "       x: array([ 25.17672999])\n"
     ]
    }
   ],
   "source": [
    "bounds = [(1, 30)]\n",
    "res = optimize.differential_evolution(fun2, bounds)\n",
    "print res"
   ]
  },
  {
   "cell_type": "code",
   "execution_count": 178,
   "metadata": {},
   "outputs": [
    {
     "name": "stdout",
     "output_type": "stream",
     "text": [
      "-5\n"
     ]
    }
   ],
   "source": [
    "print int(fun(30))"
   ]
  },
  {
   "cell_type": "code",
   "execution_count": null,
   "metadata": {
    "collapsed": true
   },
   "outputs": [],
   "source": []
  }
 ],
 "metadata": {
  "kernelspec": {
   "display_name": "Python 2",
   "language": "python",
   "name": "python2"
  },
  "language_info": {
   "codemirror_mode": {
    "name": "ipython",
    "version": 2
   },
   "file_extension": ".py",
   "mimetype": "text/x-python",
   "name": "python",
   "nbconvert_exporter": "python",
   "pygments_lexer": "ipython2",
   "version": "2.7.13"
  }
 },
 "nbformat": 4,
 "nbformat_minor": 2
}
